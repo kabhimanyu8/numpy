{
 "cells": [
  {
   "cell_type": "markdown",
   "id": "118e8c63",
   "metadata": {},
   "source": [
    "# Abhimanyu Kumar first python\n"
   ]
  },
  {
   "cell_type": "code",
   "execution_count": 5,
   "id": "cc9c037c",
   "metadata": {},
   "outputs": [
    {
     "data": {
      "text/plain": [
       "70"
      ]
     },
     "execution_count": 5,
     "metadata": {},
     "output_type": "execute_result"
    }
   ],
   "source": [
    "7*10\n"
   ]
  },
  {
   "cell_type": "code",
   "execution_count": 4,
   "id": "fe54fe3d",
   "metadata": {},
   "outputs": [
    {
     "data": {
      "text/plain": [
       "20"
      ]
     },
     "execution_count": 4,
     "metadata": {},
     "output_type": "execute_result"
    }
   ],
   "source": [
    "10+10"
   ]
  },
  {
   "cell_type": "code",
   "execution_count": 7,
   "id": "8c01fea0",
   "metadata": {},
   "outputs": [
    {
     "data": {
      "text/plain": [
       "'abhiabhiabhiabhiabhiabhiabhiabhiabhiabhi'"
      ]
     },
     "execution_count": 7,
     "metadata": {},
     "output_type": "execute_result"
    }
   ],
   "source": [
    "10*'abhi'"
   ]
  },
  {
   "cell_type": "code",
   "execution_count": 8,
   "id": "6921385a",
   "metadata": {},
   "outputs": [
    {
     "ename": "TypeError",
     "evalue": "can't multiply sequence by non-int of type 'str'",
     "output_type": "error",
     "traceback": [
      "\u001b[1;31m---------------------------------------------------------------------------\u001b[0m",
      "\u001b[1;31mTypeError\u001b[0m                                 Traceback (most recent call last)",
      "\u001b[1;32m<ipython-input-8-598e4fe7e0a7>\u001b[0m in \u001b[0;36m<module>\u001b[1;34m\u001b[0m\n\u001b[1;32m----> 1\u001b[1;33m \u001b[1;34m'abhi'\u001b[0m\u001b[1;33m*\u001b[0m\u001b[1;34m'abhi'\u001b[0m\u001b[1;33m\u001b[0m\u001b[1;33m\u001b[0m\u001b[0m\n\u001b[0m",
      "\u001b[1;31mTypeError\u001b[0m: can't multiply sequence by non-int of type 'str'"
     ]
    }
   ],
   "source": [
    "'abhi'*'abhi'"
   ]
  },
  {
   "cell_type": "code",
   "execution_count": 9,
   "id": "f1747662",
   "metadata": {},
   "outputs": [
    {
     "data": {
      "text/plain": [
       "'abhiabhi'"
      ]
     },
     "execution_count": 9,
     "metadata": {},
     "output_type": "execute_result"
    }
   ],
   "source": [
    "'abhi'+'abhi'\n"
   ]
  },
  {
   "cell_type": "code",
   "execution_count": 10,
   "id": "aea5c068",
   "metadata": {},
   "outputs": [
    {
     "data": {
      "text/plain": [
       "'Hello'"
      ]
     },
     "execution_count": 10,
     "metadata": {},
     "output_type": "execute_result"
    }
   ],
   "source": [
    "\"Hello\"''"
   ]
  },
  {
   "cell_type": "code",
   "execution_count": 11,
   "id": "46387924",
   "metadata": {},
   "outputs": [
    {
     "data": {
      "text/plain": [
       "'Abhimanyu'"
      ]
     },
     "execution_count": 11,
     "metadata": {},
     "output_type": "execute_result"
    }
   ],
   "source": [
    "'Abhimanyu'\n"
   ]
  },
  {
   "cell_type": "code",
   "execution_count": 12,
   "id": "75e985b4",
   "metadata": {},
   "outputs": [
    {
     "ename": "SyntaxError",
     "evalue": "invalid syntax (<ipython-input-12-5736efacca2c>, line 1)",
     "output_type": "error",
     "traceback": [
      "\u001b[1;36m  File \u001b[1;32m\"<ipython-input-12-5736efacca2c>\"\u001b[1;36m, line \u001b[1;32m1\u001b[0m\n\u001b[1;33m    type 'Abhimanyu'\u001b[0m\n\u001b[1;37m         ^\u001b[0m\n\u001b[1;31mSyntaxError\u001b[0m\u001b[1;31m:\u001b[0m invalid syntax\n"
     ]
    }
   ],
   "source": [
    "type 'Abhimanyu'\n"
   ]
  },
  {
   "cell_type": "code",
   "execution_count": 13,
   "id": "26be1db5",
   "metadata": {},
   "outputs": [
    {
     "data": {
      "text/plain": [
       "str"
      ]
     },
     "execution_count": 13,
     "metadata": {},
     "output_type": "execute_result"
    }
   ],
   "source": [
    "type ('Abhimanyu')"
   ]
  },
  {
   "cell_type": "code",
   "execution_count": 14,
   "id": "d24b9e83",
   "metadata": {},
   "outputs": [
    {
     "data": {
      "text/plain": [
       "'Abhimanyu Kumar'"
      ]
     },
     "execution_count": 14,
     "metadata": {},
     "output_type": "execute_result"
    }
   ],
   "source": [
    "'Abhimanyu Kumar'"
   ]
  },
  {
   "cell_type": "code",
   "execution_count": 15,
   "id": "2f71f135",
   "metadata": {},
   "outputs": [
    {
     "ename": "SyntaxError",
     "evalue": "invalid syntax (<ipython-input-15-bbf4d2935577>, line 1)",
     "output_type": "error",
     "traceback": [
      "\u001b[1;36m  File \u001b[1;32m\"<ipython-input-15-bbf4d2935577>\"\u001b[1;36m, line \u001b[1;32m1\u001b[0m\n\u001b[1;33m    type 'ABhimanyu Kuar'\u001b[0m\n\u001b[1;37m         ^\u001b[0m\n\u001b[1;31mSyntaxError\u001b[0m\u001b[1;31m:\u001b[0m invalid syntax\n"
     ]
    }
   ],
   "source": [
    "type 'ABhimanyu Kuar'"
   ]
  },
  {
   "cell_type": "code",
   "execution_count": 16,
   "id": "25f84a8d",
   "metadata": {
    "scrolled": true
   },
   "outputs": [
    {
     "data": {
      "text/plain": [
       "str"
      ]
     },
     "execution_count": 16,
     "metadata": {},
     "output_type": "execute_result"
    }
   ],
   "source": [
    "type ('ABhimanyu Kuar')"
   ]
  },
  {
   "cell_type": "code",
   "execution_count": 17,
   "id": "39265c95",
   "metadata": {},
   "outputs": [
    {
     "data": {
      "text/plain": [
       "str"
      ]
     },
     "execution_count": 17,
     "metadata": {},
     "output_type": "execute_result"
    }
   ],
   "source": [
    "a=10\n",
    "type('a')"
   ]
  },
  {
   "cell_type": "code",
   "execution_count": 19,
   "id": "f8fa6482",
   "metadata": {},
   "outputs": [
    {
     "data": {
      "text/plain": [
       "4"
      ]
     },
     "execution_count": 19,
     "metadata": {},
     "output_type": "execute_result"
    }
   ],
   "source": [
    "len('abhi')"
   ]
  },
  {
   "cell_type": "code",
   "execution_count": 20,
   "id": "d3a832f5",
   "metadata": {},
   "outputs": [
    {
     "name": "stdout",
     "output_type": "stream",
     "text": [
      "My first name is {} and last name is {}\n"
     ]
    }
   ],
   "source": [
    "print('My first name is {} and last name is {}')"
   ]
  },
  {
   "cell_type": "code",
   "execution_count": 22,
   "id": "cf78e119",
   "metadata": {},
   "outputs": [
    {
     "name": "stdout",
     "output_type": "stream",
     "text": [
      "My first name is abhi and last name is kumar\n"
     ]
    }
   ],
   "source": [
    "first_name ='abhi'\n",
    "last_name ='kumar'\n",
    "print('My first name is {} and last name is {}'.format(first_name,last_name))"
   ]
  },
  {
   "cell_type": "code",
   "execution_count": 23,
   "id": "73e7bcd1",
   "metadata": {},
   "outputs": [
    {
     "ename": "SyntaxError",
     "evalue": "invalid syntax (<ipython-input-23-1b21f24d935e>, line 1)",
     "output_type": "error",
     "traceback": [
      "\u001b[1;36m  File \u001b[1;32m\"<ipython-input-23-1b21f24d935e>\"\u001b[1;36m, line \u001b[1;32m1\u001b[0m\n\u001b[1;33m    https://github.com/kabhimanyu8/Machine-Learning-in-90-days.git\u001b[0m\n\u001b[1;37m          ^\u001b[0m\n\u001b[1;31mSyntaxError\u001b[0m\u001b[1;31m:\u001b[0m invalid syntax\n"
     ]
    }
   ],
   "source": [
    "https://github.com/kabhimanyu8/Machine-Learning-in-90-days.git"
   ]
  },
  {
   "cell_type": "code",
   "execution_count": 24,
   "id": "d6a8e9e8",
   "metadata": {},
   "outputs": [
    {
     "name": "stderr",
     "output_type": "stream",
     "text": [
      "'git' is not recognized as an internal or external command,\n",
      "operable program or batch file.\n"
     ]
    }
   ],
   "source": [
    "!git clone https://github.com/kabhimanyu8/Machine-Learning-in-90-days.git"
   ]
  },
  {
   "cell_type": "code",
   "execution_count": null,
   "id": "8d52ba7e",
   "metadata": {},
   "outputs": [],
   "source": []
  }
 ],
 "metadata": {
  "kernelspec": {
   "display_name": "Python 3",
   "language": "python",
   "name": "python3"
  },
  "language_info": {
   "codemirror_mode": {
    "name": "ipython",
    "version": 3
   },
   "file_extension": ".py",
   "mimetype": "text/x-python",
   "name": "python",
   "nbconvert_exporter": "python",
   "pygments_lexer": "ipython3",
   "version": "3.8.8"
  }
 },
 "nbformat": 4,
 "nbformat_minor": 5
}
